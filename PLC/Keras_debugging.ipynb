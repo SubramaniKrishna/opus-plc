{
 "cells": [
  {
   "cell_type": "code",
   "execution_count": 1,
   "id": "3212f12e-5870-47fe-be1c-2a37470083b3",
   "metadata": {},
   "outputs": [
    {
     "name": "stderr",
     "output_type": "stream",
     "text": [
      "2022-08-07 20:11:03.796867: W tensorflow/stream_executor/platform/default/dso_loader.cc:64] Could not load dynamic library 'libcudart.so.11.0'; dlerror: libcudart.so.11.0: cannot open shared object file: No such file or directory; LD_LIBRARY_PATH: /usr/lib64/openmpi/lib/:/usr/local/cuda/lib64:/usr/local/lib:/usr/lib:/usr/local/cuda/extras/CUPTI/lib64:/usr/local/mpi/lib:/lib/:/home/ubuntu/src/cntk/bindings/python/cntk/libs:/usr/local/cuda/lib64:/usr/local/lib:/usr/lib:/usr/local/cuda/extras/CUPTI/lib64:/usr/local/mpi/lib::/home/ubuntu/miniconda3/lib/\n",
      "2022-08-07 20:11:03.796867: I tensorflow/stream_executor/cuda/cudart_stub.cc:29] Ignore above cudart dlerror if you do not have a GPU set up on your machine.\n"
     ]
    }
   ],
   "source": [
    "import os\n",
    "os.environ[\"CUDA_VISIBLE_DEVICES\"] = \"-1\"\n",
    "import numpy as np\n",
    "import matplotlib.pyplot as pyp\n",
    "\n",
    "import tensorflow as tf\n",
    "from tensorflow.keras.models import Model\n",
    "from tensorflow.keras.layers import Input, GRU, Dense, Embedding, Reshape, Concatenate, Lambda, Conv1D, Multiply, Add, Bidirectional, MaxPooling1D, Activation, GaussianNoise, Layer, Conv2D, AveragePooling2D, Concatenate"
   ]
  },
  {
   "cell_type": "code",
   "execution_count": 2,
   "id": "66cc549b-df89-4c90-8ac4-a37a9e3fefbb",
   "metadata": {},
   "outputs": [],
   "source": [
    "def my_init(shape, dtype=None):\n",
    "    L = np.ones(shape)\n",
    "    # L[2,:,:,:] = 1\n",
    "    return tf.cast(tf.convert_to_tensor(L),dtype = dtype)"
   ]
  },
  {
   "cell_type": "code",
   "execution_count": 69,
   "id": "90d6f58f-91df-4d11-a778-48702c5c277b",
   "metadata": {},
   "outputs": [],
   "source": [
    "A = np.ones(10).reshape(5,2).astype('float')"
   ]
  },
  {
   "cell_type": "code",
   "execution_count": 70,
   "id": "f20eb5e0-3b71-4936-b265-70242f2c0ff8",
   "metadata": {},
   "outputs": [],
   "source": [
    "A = A.reshape(1,5,2,1)"
   ]
  },
  {
   "cell_type": "code",
   "execution_count": 71,
   "id": "3075b12b-c6f1-479b-938a-fd44c32042d0",
   "metadata": {},
   "outputs": [],
   "source": [
    "L = Conv2D(1, (1,2), 1, padding = 'same', activation='linear', data_format = 'channels_last',use_bias = False, kernel_initializer = tf.keras.initializers.Ones()) #kernel_initializer = tf.keras.initializers.Ones())"
   ]
  },
  {
   "cell_type": "code",
   "execution_count": 72,
   "id": "a75e13da-144e-49e7-9138-73391f8653b5",
   "metadata": {},
   "outputs": [
    {
     "data": {
      "text/plain": [
       "array([[1., 1.],\n",
       "       [1., 1.],\n",
       "       [1., 1.],\n",
       "       [1., 1.],\n",
       "       [1., 1.]])"
      ]
     },
     "execution_count": 72,
     "metadata": {},
     "output_type": "execute_result"
    }
   ],
   "source": [
    "A.squeeze()"
   ]
  },
  {
   "cell_type": "code",
   "execution_count": 73,
   "id": "0a26d22a-c178-4073-a1d1-b2b1a094c6ee",
   "metadata": {},
   "outputs": [
    {
     "data": {
      "text/plain": [
       "array([[2., 1.],\n",
       "       [2., 1.],\n",
       "       [2., 1.],\n",
       "       [2., 1.],\n",
       "       [2., 1.]], dtype=float32)"
      ]
     },
     "execution_count": 73,
     "metadata": {},
     "output_type": "execute_result"
    }
   ],
   "source": [
    "L(A).numpy().squeeze()"
   ]
  },
  {
   "cell_type": "code",
   "execution_count": 62,
   "id": "79049c7e-bd0a-42bb-842f-dd26ce912b0b",
   "metadata": {},
   "outputs": [
    {
     "data": {
      "text/plain": [
       "array([1., 1.], dtype=float32)"
      ]
     },
     "execution_count": 62,
     "metadata": {},
     "output_type": "execute_result"
    }
   ],
   "source": [
    "L.weights[0].numpy().squeeze()"
   ]
  },
  {
   "cell_type": "code",
   "execution_count": 63,
   "id": "2eb0310e-4973-4a2f-8329-168d33dbb4a3",
   "metadata": {},
   "outputs": [],
   "source": [
    "triarr = np.expand_dims(np.arange(10),-1)\n",
    "zxf = np.expand_dims(np.stack([triarr for i in range(1,6)]),0).transpose([0,2,1,3]).astype('float')"
   ]
  },
  {
   "cell_type": "code",
   "execution_count": 27,
   "id": "1902eecf-f84e-41c5-b7d8-aff69b3b339c",
   "metadata": {},
   "outputs": [
    {
     "data": {
      "text/plain": [
       "[<matplotlib.lines.Line2D at 0x7fd99430a5b0>]"
      ]
     },
     "execution_count": 27,
     "metadata": {},
     "output_type": "execute_result"
    },
    {
     "data": {
      "image/png": "[encoded data removed]",
      "text/plain": [
       "<Figure size 432x288 with 1 Axes>"
      ]
     },
     "metadata": {
      "needs_background": "light"
     },
     "output_type": "display_data"
    }
   ],
   "source": [
    "pyp.plot(L(zxf).numpy().squeeze()[:,0],'k')\n",
    "pyp.plot(zxf[0,:,0,0],'r')"
   ]
  },
  {
   "cell_type": "code",
   "execution_count": 14,
   "id": "4407e035-2c08-4246-86ce-41ea14d061a6",
   "metadata": {},
   "outputs": [
    {
     "ename": "InvalidArgumentError",
     "evalue": "Exception encountered when calling layer \"conv2d_1\" (type Conv2D).\n\nValue for attr 'T' of int64 is not in the list of allowed values: half, bfloat16, float, double, int32\n\t; NodeDef: {{node Conv2D}}; Op<name=Conv2D; signature=input:T, filter:T -> output:T; attr=T:type,allowed=[DT_HALF, DT_BFLOAT16, DT_FLOAT, DT_DOUBLE, DT_INT32]; attr=strides:list(int); attr=use_cudnn_on_gpu:bool,default=true; attr=padding:string,allowed=[\"SAME\", \"VALID\", \"EXPLICIT\"]; attr=explicit_paddings:list(int),default=[]; attr=data_format:string,default=\"NHWC\",allowed=[\"NHWC\", \"NCHW\"]; attr=dilations:list(int),default=[1, 1, 1, 1]> [Op:Conv2D]\n\nCall arguments received by layer \"conv2d_1\" (type Conv2D):\n  • inputs=tf.Tensor(shape=(1, 10, 5, 1), dtype=int64)",
     "output_type": "error",
     "traceback": [
      "\u001b[0;31m---------------------------------------------------------------------------\u001b[0m",
      "\u001b[0;31mInvalidArgumentError\u001b[0m                      Traceback (most recent call last)",
      "Input \u001b[0;32mIn [14]\u001b[0m, in \u001b[0;36m<cell line: 1>\u001b[0;34m()\u001b[0m\n\u001b[0;32m----> 1\u001b[0m pyp\u001b[38;5;241m.\u001b[39mimshow(\u001b[43mL\u001b[49m\u001b[43m(\u001b[49m\u001b[43mzxf\u001b[49m\u001b[43m)\u001b[49m\u001b[38;5;241m.\u001b[39mnumpy()\u001b[38;5;241m.\u001b[39msqueeze())\n",
      "File \u001b[0;32m~/miniconda3/envs/plc/lib/python3.9/site-packages/keras/utils/traceback_utils.py:67\u001b[0m, in \u001b[0;36mfilter_traceback.<locals>.error_handler\u001b[0;34m(*args, **kwargs)\u001b[0m\n\u001b[1;32m     65\u001b[0m \u001b[38;5;28;01mexcept\u001b[39;00m \u001b[38;5;167;01mException\u001b[39;00m \u001b[38;5;28;01mas\u001b[39;00m e:  \u001b[38;5;66;03m# pylint: disable=broad-except\u001b[39;00m\n\u001b[1;32m     66\u001b[0m   filtered_tb \u001b[38;5;241m=\u001b[39m _process_traceback_frames(e\u001b[38;5;241m.\u001b[39m__traceback__)\n\u001b[0;32m---> 67\u001b[0m   \u001b[38;5;28;01mraise\u001b[39;00m e\u001b[38;5;241m.\u001b[39mwith_traceback(filtered_tb) \u001b[38;5;28;01mfrom\u001b[39;00m \u001b[38;5;28mNone\u001b[39m\n\u001b[1;32m     68\u001b[0m \u001b[38;5;28;01mfinally\u001b[39;00m:\n\u001b[1;32m     69\u001b[0m   \u001b[38;5;28;01mdel\u001b[39;00m filtered_tb\n",
      "File \u001b[0;32m~/miniconda3/envs/plc/lib/python3.9/site-packages/tensorflow/python/framework/ops.py:7164\u001b[0m, in \u001b[0;36mraise_from_not_ok_status\u001b[0;34m(e, name)\u001b[0m\n\u001b[1;32m   7162\u001b[0m \u001b[38;5;28;01mdef\u001b[39;00m \u001b[38;5;21mraise_from_not_ok_status\u001b[39m(e, name):\n\u001b[1;32m   7163\u001b[0m   e\u001b[38;5;241m.\u001b[39mmessage \u001b[38;5;241m+\u001b[39m\u001b[38;5;241m=\u001b[39m (\u001b[38;5;124m\"\u001b[39m\u001b[38;5;124m name: \u001b[39m\u001b[38;5;124m\"\u001b[39m \u001b[38;5;241m+\u001b[39m name \u001b[38;5;28;01mif\u001b[39;00m name \u001b[38;5;129;01mis\u001b[39;00m \u001b[38;5;129;01mnot\u001b[39;00m \u001b[38;5;28;01mNone\u001b[39;00m \u001b[38;5;28;01melse\u001b[39;00m \u001b[38;5;124m\"\u001b[39m\u001b[38;5;124m\"\u001b[39m)\n\u001b[0;32m-> 7164\u001b[0m   \u001b[38;5;28;01mraise\u001b[39;00m core\u001b[38;5;241m.\u001b[39m_status_to_exception(e) \u001b[38;5;28;01mfrom\u001b[39;00m \u001b[38;5;28mNone\u001b[39m\n",
      "\u001b[0;31mInvalidArgumentError\u001b[0m: Exception encountered when calling layer \"conv2d_1\" (type Conv2D).\n\nValue for attr 'T' of int64 is not in the list of allowed values: half, bfloat16, float, double, int32\n\t; NodeDef: {{node Conv2D}}; Op<name=Conv2D; signature=input:T, filter:T -> output:T; attr=T:type,allowed=[DT_HALF, DT_BFLOAT16, DT_FLOAT, DT_DOUBLE, DT_INT32]; attr=strides:list(int); attr=use_cudnn_on_gpu:bool,default=true; attr=padding:string,allowed=[\"SAME\", \"VALID\", \"EXPLICIT\"]; attr=explicit_paddings:list(int),default=[]; attr=data_format:string,default=\"NHWC\",allowed=[\"NHWC\", \"NCHW\"]; attr=dilations:list(int),default=[1, 1, 1, 1]> [Op:Conv2D]\n\nCall arguments received by layer \"conv2d_1\" (type Conv2D):\n  • inputs=tf.Tensor(shape=(1, 10, 5, 1), dtype=int64)"
     ]
    }
   ],
   "source": [
    "pyp.imshow(L(zxf).numpy().squeeze())"
   ]
  },
  {
   "cell_type": "code",
   "execution_count": null,
   "id": "e06bff8b-2b32-48d9-855c-8ee3c80e97cc",
   "metadata": {},
   "outputs": [],
   "source": []
  },
  {
   "cell_type": "code",
   "execution_count": 42,
   "id": "433452e0-61c8-4019-a571-423609314649",
   "metadata": {},
   "outputs": [
    {
     "data": {
      "text/plain": [
       "TensorShape([3, 2, 1, 1])"
      ]
     },
     "execution_count": 42,
     "metadata": {},
     "output_type": "execute_result"
    }
   ],
   "source": [
    "L.weights[0].shape"
   ]
  },
  {
   "cell_type": "code",
   "execution_count": 43,
   "id": "17a06b2d-2bfc-4314-a378-074debbfccfd",
   "metadata": {},
   "outputs": [
    {
     "data": {
      "text/plain": [
       "array([[ 0.,  1.,  2.,  3.,  4.,  5.,  6.,  7.,  8.,  9.],\n",
       "       [10., 11., 12., 13., 14., 15., 16., 17., 18., 19.],\n",
       "       [20., 21., 22., 23., 24., 25., 26., 27., 28., 29.],\n",
       "       [30., 31., 32., 33., 34., 35., 36., 37., 38., 39.],\n",
       "       [40., 41., 42., 43., 44., 45., 46., 47., 48., 49.]])"
      ]
     },
     "execution_count": 43,
     "metadata": {},
     "output_type": "execute_result"
    }
   ],
   "source": [
    "A.squeeze()"
   ]
  },
  {
   "cell_type": "code",
   "execution_count": 44,
   "id": "0614a00c-14bb-44bb-aae9-e31325b6e437",
   "metadata": {},
   "outputs": [
    {
     "data": {
      "text/plain": [
       "array([[ 22.,  26.,  30.,  34.,  38.,  42.,  46.,  50.,  54.,  28.],\n",
       "       [ 63.,  69.,  75.,  81.,  87.,  93.,  99., 105., 111.,  57.],\n",
       "       [123., 129., 135., 141., 147., 153., 159., 165., 171.,  87.],\n",
       "       [183., 189., 195., 201., 207., 213., 219., 225., 231., 117.],\n",
       "       [142., 146., 150., 154., 158., 162., 166., 170., 174.,  88.]],\n",
       "      dtype=float32)"
      ]
     },
     "execution_count": 44,
     "metadata": {},
     "output_type": "execute_result"
    }
   ],
   "source": [
    "L(A).numpy().squeeze()"
   ]
  },
  {
   "cell_type": "code",
   "execution_count": 9,
   "id": "11449527-5c90-42d8-9ba0-fbbff5c9651f",
   "metadata": {},
   "outputs": [],
   "source": [
    "import scipy.fftpack as ftp\n",
    "import numpy as np\n",
    "import matplotlib.pyplot as pyp"
   ]
  },
  {
   "cell_type": "code",
   "execution_count": 71,
   "id": "f5acd460-f98e-485e-a788-3aecee2e1470",
   "metadata": {},
   "outputs": [],
   "source": []
  },
  {
   "cell_type": "code",
   "execution_count": 62,
   "id": "c54a9170-dd4a-4f63-8657-71e10a9f37eb",
   "metadata": {},
   "outputs": [
    {
     "data": {
      "text/plain": [
       "array([0, 1, 2, 3, 3, 2, 1, 0])"
      ]
     },
     "execution_count": 62,
     "metadata": {},
     "output_type": "execute_result"
    }
   ],
   "source": [
    "np.concatenate((a,np.flip(a)))"
   ]
  },
  {
   "cell_type": "code",
   "execution_count": 63,
   "id": "e318b316-4aae-4914-a42d-38ccc2618707",
   "metadata": {},
   "outputs": [],
   "source": [
    "b = np.pad(a,(0,a.shape[0]),mode = 'constant',constant_values=(0, 0))\n",
    "# b = np.concatenate((a,np.flip(a)))"
   ]
  },
  {
   "cell_type": "code",
   "execution_count": 93,
   "id": "c88f8209-7dea-4b17-9699-22d50d72ae98",
   "metadata": {},
   "outputs": [],
   "source": [
    "a = np.arange(960)\n",
    "b = np.pad(a,(0,a.shape[0]),mode = 'constant',constant_values=(0, 0))\n",
    "actual_type4dct = ftp.dct(a,type = 4,norm = None)\n",
    "dct4_from_dct2 = ftp.dct(b,type = 2,norm = None)[1::2]"
   ]
  },
  {
   "cell_type": "code",
   "execution_count": 94,
   "id": "d543b134-f0ac-40b6-9be4-e0b47b744f8e",
   "metadata": {},
   "outputs": [
    {
     "data": {
      "text/plain": [
       "[<matplotlib.lines.Line2D at 0x7f804d2ce160>]"
      ]
     },
     "execution_count": 94,
     "metadata": {},
     "output_type": "execute_result"
    },
    {
     "data": {
      "image/png": "[encoded data removed]",
      "text/plain": [
       "<Figure size 432x288 with 1 Axes>"
      ]
     },
     "metadata": {
      "needs_background": "light"
     },
     "output_type": "display_data"
    }
   ],
   "source": [
    "pyp.plot(actual_type4dct,'r')\n",
    "pyp.plot(dct4_from_dct2,'k')"
   ]
  },
  {
   "cell_type": "code",
   "execution_count": 95,
   "id": "d2f1094d-54cc-4626-8abe-d353483c1f8d",
   "metadata": {},
   "outputs": [
    {
     "data": {
      "text/plain": [
       "[<matplotlib.lines.Line2D at 0x7f804d2279a0>]"
      ]
     },
     "execution_count": 95,
     "metadata": {},
     "output_type": "execute_result"
    },
    {
     "data": {
      "image/png": "[encoded data removed]",
      "text/plain": [
       "<Figure size 432x288 with 1 Axes>"
      ]
     },
     "metadata": {
      "needs_background": "light"
     },
     "output_type": "display_data"
    }
   ],
   "source": [
    "pyp.plot(actual_type4dct - dct4_from_dct2)"
   ]
  },
  {
   "cell_type": "code",
   "execution_count": 69,
   "id": "3bbf837c-e77a-4c23-95e6-f98f6854ef99",
   "metadata": {},
   "outputs": [
    {
     "data": {
      "text/plain": [
       "array([12.        , -6.30864406,  0.        , -0.44834153])"
      ]
     },
     "execution_count": 69,
     "metadata": {},
     "output_type": "execute_result"
    }
   ],
   "source": [
    "actual_type4dct"
   ]
  },
  {
   "cell_type": "code",
   "execution_count": 60,
   "id": "2b737ab3-af6e-4b3c-8d1a-823a2b5b5823",
   "metadata": {},
   "outputs": [],
   "source": [
    "dct4_from_dct2 = ftp.dct(b,type = 4,norm = None)"
   ]
  },
  {
   "cell_type": "code",
   "execution_count": null,
   "id": "30fa6356-6aad-4575-a3dd-a5d86a7fe56e",
   "metadata": {},
   "outputs": [],
   "source": []
  },
  {
   "cell_type": "code",
   "execution_count": 54,
   "id": "4b286084-e71b-45ba-a297-688e8b45a6cd",
   "metadata": {},
   "outputs": [
    {
     "data": {
      "text/plain": [
       "(100,)"
      ]
     },
     "execution_count": 54,
     "metadata": {},
     "output_type": "execute_result"
    }
   ],
   "source": [
    "dct4_from_dct2.shape"
   ]
  },
  {
   "cell_type": "code",
   "execution_count": 55,
   "id": "07f3adc9-8510-4ccc-bf92-d8b4777107bc",
   "metadata": {},
   "outputs": [
    {
     "data": {
      "text/plain": [
       "[<matplotlib.lines.Line2D at 0x7f804dd0de50>]"
      ]
     },
     "execution_count": 55,
     "metadata": {},
     "output_type": "execute_result"
    },
    {
     "data": {
      "image/png": "[encoded data removed]",
      "text/plain": [
       "<Figure size 432x288 with 1 Axes>"
      ]
     },
     "metadata": {
      "needs_background": "light"
     },
     "output_type": "display_data"
    }
   ],
   "source": [
    "pyp.plot(dct4_from_dct2,'k')\n",
    "pyp.plot(actual_type4dct,'r')"
   ]
  },
  {
   "cell_type": "code",
   "execution_count": 20,
   "id": "74209d13-19ca-48dc-b934-2a7d8d45f75e",
   "metadata": {},
   "outputs": [
    {
     "data": {
      "text/plain": [
       "array([ -177.52641062, -2753.57295208,  1171.97210542, -1237.29249356,\n",
       "         790.65917475,  -797.9566138 ,   589.02948171,  -589.23223721,\n",
       "         468.46962203,  -467.41191776,   388.85376193,  -387.6449413 ,\n",
       "         332.52373454,  -331.41183944,   290.64459239,  -289.67525394,\n",
       "         258.33354063,  -257.50028274,   232.6796472 ,  -231.96402127,\n",
       "         211.84214154,  -211.2251078 ,   194.60095896,  -194.06589271,\n",
       "         180.11586991,  -179.64901781,   167.78954775,  -167.37974262,\n",
       "         157.1858264 ,  -156.82404202,   147.9788571 ,  -147.65778447,\n",
       "         139.9203572 ,  -139.6340494 ,   132.81786627,  -132.5614549 ,\n",
       "         126.5199255 ,  -126.28939839,   120.90573957,  -120.69776788,\n",
       "         115.87781627,  -115.68961986,   111.35662961,  -111.18587192,\n",
       "         107.27668616,  -107.12139172,   103.5835826 ,  -103.44207188,\n",
       "         100.23177498,  -100.1026127 ,    97.18286691,   -97.0648206 ,\n",
       "          94.40428118,   -94.29628794,    91.86821845,   -91.76935795,\n",
       "          89.55083328,   -89.46030581,    87.43157648,   -87.34868498,\n",
       "          85.49266614,   -85.41680137,    83.71865896,   -83.64928724,\n",
       "          82.09610061,   -82.03275362,    80.61323875,   -80.55550504,\n",
       "          79.25978629,   -79.20730414,    78.02672496,   -77.97917642,\n",
       "          76.90614181,   -76.86324759,    75.89109239,   -75.85260769,\n",
       "          74.97548617,   -74.94119701,    74.15399009,   -74.12371032,\n",
       "          73.42194752,   -73.39551624,    72.77530996,   -72.75258938,\n",
       "          72.2105797 ,   -72.19145338,    71.72476174,   -71.70913306,\n",
       "          71.31532377,   -71.30311475,    70.9801631 ,   -70.97131347,\n",
       "          70.71757985,   -70.71204629,    70.52625559,   -70.52401123,\n",
       "          70.40523706,   -70.40627116,    70.35392448,   -70.35824233])"
      ]
     },
     "execution_count": 20,
     "metadata": {},
     "output_type": "execute_result"
    }
   ],
   "source": [
    "dct4_from_dct2"
   ]
  },
  {
   "cell_type": "code",
   "execution_count": null,
   "id": "081f25d0-335f-436b-957e-25bad6981a00",
   "metadata": {},
   "outputs": [],
   "source": []
  }
 ],
 "metadata": {
  "kernelspec": {
   "display_name": "Python 3 (ipykernel)",
   "language": "python",
   "name": "python3"
  },
  "language_info": {
   "codemirror_mode": {
    "name": "ipython",
    "version": 3
   },
   "file_extension": ".py",
   "mimetype": "text/x-python",
   "name": "python",
   "nbconvert_exporter": "python",
   "pygments_lexer": "ipython3",
   "version": "3.9.12"
  }
 },
 "nbformat": 4,
 "nbformat_minor": 5
}
